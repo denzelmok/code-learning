{
  "nbformat": 4,
  "nbformat_minor": 0,
  "metadata": {
    "colab": {
      "name": "ShipFinder.ipynb",
      "provenance": []
    },
    "kernelspec": {
      "name": "python3",
      "display_name": "Python 3"
    }
  },
  "cells": [
    {
      "cell_type": "code",
      "metadata": {
        "id": "f9h6fJk9gyWw"
      },
      "source": [
        "# Script to find my ship\r\n",
        "# Taking information from myshiptracking.com\r\n",
        "from bs4 import BeautifulSoup\r\n",
        "import pandas as pd\r\n",
        "from re import sub\r\n",
        "import requests"
      ],
      "execution_count": null,
      "outputs": []
    },
    {
      "cell_type": "code",
      "metadata": {
        "id": "45wvldqUhM0q"
      },
      "source": [
        "# information we want\r\n",
        "names = []\r\n",
        "ship_types = []\r\n",
        "destinations = []\r\n",
        "sched_arrivals = [] # <- unimplemented\r\n",
        "est_arrivals = [] # <- unimplemented\r\n",
        "\r\n",
        "# store urls of each ship, loop by page, oldest to newest page*\r\n",
        "pages = []\r\n",
        "for i in range(34, 0, -1):\r\n",
        "  pages.append(requests.get('https://www.myshiptracking.com/ports-arrivals-departures/?mmsi=&pid=4974&type=2&time=&pp=20&page='+str(i)))\r\n",
        "\r\n",
        "urls = []\r\n",
        "for page in pages:\r\n",
        "  soup = BeautifulSoup(page.text, 'html.parser')\r\n",
        "  for link in soup.find_all('a'):\r\n",
        "      if link.get('href') is not None and '/vessels/' in link.get('href') and link.get('href') not in urls:\r\n",
        "        urls.append(link.get('href'))\r\n",
        "\r\n",
        "# store data from each link\r\n",
        "for url in urls:\r\n",
        "  page = requests.get('https://www.myshiptracking.com/'+url)\r\n",
        "  soup = BeautifulSoup(page.text, 'html.parser')\r\n",
        "\r\n",
        "  # store name\r\n",
        "  name = soup.strong.text\r\n",
        "  names.append(name)\r\n",
        "\r\n",
        "  # store ship type\r\n",
        "  ship_type = soup.find('td', class_=\"vessels_table_key\", text='Type').next_sibling.next_sibling.text\r\n",
        "  ship_types.append(ship_type)\r\n",
        "\r\n",
        "  # store destination\r\n",
        "  destination = soup.find('td', class_=\"vessels_table_key\", text='Destination').next_sibling.next_sibling.text\r\n",
        "  destinations.append(destination)"
      ],
      "execution_count": null,
      "outputs": []
    },
    {
      "cell_type": "code",
      "metadata": {
        "colab": {
          "base_uri": "https://localhost:8080/"
        },
        "id": "xfCzuG1Ht-BC",
        "outputId": "fe13fc62-9781-40f3-e289-e5b8e5c3a104"
      },
      "source": [
        "substring = 'AU'\r\n",
        "print(len(destinations))\r\n",
        "#any(substring in string for string in destinations) # check if substring in list\r\n",
        "target = [string for string in destinations if substring in string] # match substring to list, based on condition\r\n",
        "target"
      ],
      "execution_count": null,
      "outputs": [
        {
          "output_type": "stream",
          "text": [
            "343\n"
          ],
          "name": "stdout"
        },
        {
          "output_type": "execute_result",
          "data": {
            "text/plain": [
              "['AU PHE']"
            ]
          },
          "metadata": {
            "tags": []
          },
          "execution_count": 9
        }
      ]
    },
    {
      "cell_type": "code",
      "metadata": {
        "colab": {
          "base_uri": "https://localhost:8080/"
        },
        "id": "5Afp8qOUsUVn",
        "outputId": "82470a95-9650-40d9-fe16-fb74d1ed7c53"
      },
      "source": [
        "# find information you want\r\n",
        "\r\n",
        "targets = []\r\n",
        "\r\n",
        "for idx, each in enumerate(destinations):\r\n",
        "  if 'AU' in each:\r\n",
        "    print(each)\r\n",
        "    target = names[idx], ship_types[idx], destinations[idx]\r\n",
        "    targets.append(target)\r\n",
        "\r\n",
        "print(targets)"
      ],
      "execution_count": null,
      "outputs": [
        {
          "output_type": "stream",
          "text": [
            "AU PHE\n",
            "[('SHIN KOHO', 'Bulk Carrier', 'AU PHE')]\n"
          ],
          "name": "stdout"
        }
      ]
    }
  ]
}