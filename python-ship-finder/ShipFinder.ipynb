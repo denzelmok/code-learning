{
  "nbformat": 4,
  "nbformat_minor": 0,
  "metadata": {
    "colab": {
      "name": "ShipFinder.ipynb",
      "provenance": []
    },
    "kernelspec": {
      "name": "python3",
      "display_name": "Python 3"
    }
  },
  "cells": [
    {
      "cell_type": "code",
      "metadata": {
        "id": "f9h6fJk9gyWw"
      },
      "source": [
        "# Script to find my ship\r\n",
        "# Taking information from myshiptracking.com\r\n",
        "from bs4 import BeautifulSoup\r\n",
        "import pandas as pd\r\n",
        "from re import sub\r\n",
        "import requests"
      ],
      "execution_count": 1,
      "outputs": []
    },
    {
      "cell_type": "code",
      "metadata": {
        "id": "45wvldqUhM0q"
      },
      "source": [
        "# information we want\r\n",
        "names = []\r\n",
        "ship_types = []\r\n",
        "destinations = []\r\n",
        "sched_arrivals = [] # <- unimplemented\r\n",
        "est_arrivals = [] # <- unimplemented\r\n",
        "\r\n",
        "# store urls of each ship, loop by page, oldest to newest page*\r\n",
        "pages = []\r\n",
        "for i in range(34, 0, -1):\r\n",
        "  pages.append(requests.get('https://www.myshiptracking.com/ports-arrivals-departures/?mmsi=&pid=4974&type=2&time=&pp=20&page='+str(i)))\r\n",
        "\r\n",
        "urls = []\r\n",
        "for page in pages:\r\n",
        "  soup = BeautifulSoup(page.text, 'html.parser')\r\n",
        "  for link in soup.find_all('a'):\r\n",
        "      if link.get('href') is not None and '/vessels/' in link.get('href') and link.get('href') not in urls:\r\n",
        "        urls.append(link.get('href'))\r\n",
        "\r\n",
        "# store data from each link\r\n",
        "for url in urls:\r\n",
        "  page = requests.get('https://www.myshiptracking.com/'+url)\r\n",
        "  soup = BeautifulSoup(page.text, 'html.parser')\r\n",
        "\r\n",
        "  # store name\r\n",
        "  name = soup.strong.text\r\n",
        "  names.append(name)\r\n",
        "\r\n",
        "  # store ship type\r\n",
        "  ship_type = soup.find('td', class_=\"vessels_table_key\", text='Type').next_sibling.next_sibling.text\r\n",
        "  if ship_type is not None:\r\n",
        "    ship_types.append(ship_type)\r\n",
        "  else:\r\n",
        "    ship_type.append()\r\n",
        "\r\n",
        "  # store destination\r\n",
        "  destination = soup.find('td', class_=\"vessels_table_key\", text='Destination').next_sibling.next_sibling.text\r\n",
        "  destinations.append(destination)"
      ],
      "execution_count": 3,
      "outputs": []
    },
    {
      "cell_type": "code",
      "metadata": {
        "colab": {
          "base_uri": "https://localhost:8080/"
        },
        "id": "xfCzuG1Ht-BC",
        "outputId": "1f0c6ee3-7d97-480e-99bb-ee1c2814b783"
      },
      "source": [
        "# debug section\r\n",
        "\r\n",
        "substring = 'AU '\r\n",
        "print(len(destinations))\r\n",
        "#any(substring in string for string in destinations) # check if substring in list\r\n",
        "target = [string for string in destinations if substring in string] # match substring to list, based on condition\r\n",
        "target"
      ],
      "execution_count": 7,
      "outputs": [
        {
          "output_type": "stream",
          "text": [
            "336\n"
          ],
          "name": "stdout"
        },
        {
          "output_type": "execute_result",
          "data": {
            "text/plain": [
              "['AU PHE', 'AU DRW']"
            ]
          },
          "metadata": {
            "tags": []
          },
          "execution_count": 7
        }
      ]
    },
    {
      "cell_type": "code",
      "metadata": {
        "colab": {
          "base_uri": "https://localhost:8080/",
          "height": 85
        },
        "id": "5Afp8qOUsUVn",
        "outputId": "53a3c9cb-b7b8-4fb7-c1a6-4748b89405e3"
      },
      "source": [
        "# find information you want\r\n",
        "\r\n",
        "targets = []\r\n",
        "\r\n",
        "for idx, each in enumerate(destinations):\r\n",
        "  if 'AU ' in each:\r\n",
        "    print(each)\r\n",
        "    target = names[idx], ship_types[idx], destinations[idx]\r\n",
        "    targets.append(target)\r\n",
        "\r\n",
        "display(targets)"
      ],
      "execution_count": 8,
      "outputs": [
        {
          "output_type": "stream",
          "text": [
            "AU PHE\n",
            "AU DRW\n"
          ],
          "name": "stdout"
        },
        {
          "output_type": "display_data",
          "data": {
            "text/plain": [
              "[('SHIN KOHO', 'Bulk Carrier', 'AU PHE'),\n",
              " ('KODAIJISAN', 'Lpg Tanker', 'AU DRW')]"
            ]
          },
          "metadata": {
            "tags": []
          }
        }
      ]
    }
  ]
}